{
 "cells": [
  {
   "cell_type": "markdown",
   "id": "e8b1d0a9-e2ee-4cae-a333-e6f36f6d942b",
   "metadata": {},
   "source": [
    "# Chapter 6 - Periodic Motion"
   ]
  },
  {
   "cell_type": "code",
   "execution_count": 1,
   "id": "efeb03ec-a9f7-4d1c-b643-f4873ce6bf41",
   "metadata": {},
   "outputs": [],
   "source": [
    "import numpy as np\n",
    "\n",
    "\"\"\"Variables\"\"\"\n",
    "# T: Period\n",
    "# n: Frequency\n",
    "# A: Amplitude\n",
    "\n",
    "# omega: Angular Velocity\n",
    "\n",
    "\"\"\"Equations\"\"\"\n",
    "# n = 1 / T = (1/2pi) * sqrt(-a/x)\n",
    "# A = r\n",
    "\n",
    "# Simple Harmonic Motion (SHM)\n",
    "## x = Acos(omega*t)\n",
    "## v = -2pi*n*r*sin(omega*t)\n",
    "## a = (-(v^2) / r)*cos(omega*t) = -(4pi^2*n^2*x) = -cx\n",
    "\n",
    "\"\"\"Constants\"\"\"\n",
    "pi = np.pi"
   ]
  }
 ],
 "metadata": {
  "kernelspec": {
   "display_name": "Python 3 (ipykernel)",
   "language": "python",
   "name": "python3"
  },
  "language_info": {
   "codemirror_mode": {
    "name": "ipython",
    "version": 3
   },
   "file_extension": ".py",
   "mimetype": "text/x-python",
   "name": "python",
   "nbconvert_exporter": "python",
   "pygments_lexer": "ipython3",
   "version": "3.11.11"
  }
 },
 "nbformat": 4,
 "nbformat_minor": 5
}
