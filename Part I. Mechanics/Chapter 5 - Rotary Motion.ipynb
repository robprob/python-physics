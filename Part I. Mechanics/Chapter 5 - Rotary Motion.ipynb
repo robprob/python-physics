{
 "cells": [
  {
   "cell_type": "markdown",
   "id": "d2d623fb-d447-4fce-a9d4-395cf038fac7",
   "metadata": {},
   "source": [
    "# Chapter 5 - Rotary Motion"
   ]
  },
  {
   "cell_type": "code",
   "execution_count": 4,
   "id": "1d0626a3-935a-4703-b530-58bf089829d7",
   "metadata": {},
   "outputs": [
    {
     "data": {
      "text/plain": [
       "'Equations'"
      ]
     },
     "execution_count": 4,
     "metadata": {},
     "output_type": "execute_result"
    }
   ],
   "source": [
    "import numpy as np\n",
    "\n",
    "\"\"\"Variables\"\"\"\n",
    "# Theta: Angular Position\n",
    "# Phi: Angular Displacement\n",
    "# Omega: Angular Velocity\n",
    "# Alpha: Angular Acceleration\n",
    "\n",
    "\"\"\"Equations\"\"\"\n",
    "# s = r*phi\n",
    "# v = r*omega\n",
    "# a = r*alpha"
   ]
  }
 ],
 "metadata": {
  "kernelspec": {
   "display_name": "Python 3 (ipykernel)",
   "language": "python",
   "name": "python3"
  },
  "language_info": {
   "codemirror_mode": {
    "name": "ipython",
    "version": 3
   },
   "file_extension": ".py",
   "mimetype": "text/x-python",
   "name": "python",
   "nbconvert_exporter": "python",
   "pygments_lexer": "ipython3",
   "version": "3.11.11"
  }
 },
 "nbformat": 4,
 "nbformat_minor": 5
}
