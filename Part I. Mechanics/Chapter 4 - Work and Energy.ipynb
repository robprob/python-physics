{
 "cells": [
  {
   "cell_type": "markdown",
   "id": "54334f63-a327-426c-9eea-ed8ec2d35106",
   "metadata": {},
   "source": [
    "# Chapter 4 - Work and Energy"
   ]
  },
  {
   "cell_type": "code",
   "execution_count": 1,
   "id": "a961658a-369b-4411-8013-076115156e3e",
   "metadata": {},
   "outputs": [
    {
     "data": {
      "text/plain": [
       "'Equations'"
      ]
     },
     "execution_count": 1,
     "metadata": {},
     "output_type": "execute_result"
    }
   ],
   "source": [
    "import numpy as np\n",
    "\n",
    "\"\"\"Constants\"\"\"\n",
    "g = 32 # feet/second^2\n",
    "\n",
    "\"\"\"Equations\"\"\"\n",
    "# Work\n",
    "# W = Fs\n",
    "\n",
    "# Kinetic Energy\n",
    "# KE = (1/2)mv^2\n",
    "\n",
    "# Gravitational Potential Energy\n",
    "# PE = mgh\n",
    "\n",
    "# Power\n",
    "# p = W / t"
   ]
  },
  {
   "cell_type": "code",
   "execution_count": 2,
   "id": "7e0ac64f-a4e5-4121-a649-1e4510f77cdc",
   "metadata": {},
   "outputs": [
    {
     "name": "stdout",
     "output_type": "stream",
     "text": [
      "Velocity: 61.97 feet/second\n"
     ]
    }
   ],
   "source": [
    "# Page 51\n",
    "h_0 = 60 # feet\n",
    "v_0 = 0 # feet/second\n",
    "\n",
    "h_t = 0 # feet\n",
    "\"\"\"\n",
    "t = 0\n",
    "PE = mg(h_0)\n",
    "KE = (1/2)m(v_0)^2\n",
    "\n",
    "t = t\n",
    "PE = mg(h_t)\n",
    "KE = (1/2)m(v_t)^2\n",
    "\n",
    "# Conservation of Energy: PE + KE remains constant\n",
    "mg(h_0) + (1/2)m(v_0)^2 = mg(h_t) + (1/2)m(v_t)^2\n",
    "# Cancel out components with 0\n",
    "mg(h_0) = (1/2)m(v_t)^2\n",
    "# Solve for v_t\n",
    "v_t = sqrt(2g(h_0))\n",
    "\"\"\"\n",
    "v_t = np.sqrt(2 * g * h_0)\n",
    "print(f'Velocity: {v_t:.2f} feet/second')"
   ]
  },
  {
   "cell_type": "code",
   "execution_count": 3,
   "id": "38c82bc3-64c2-41d2-ac2d-49ba04bfafb0",
   "metadata": {},
   "outputs": [
    {
     "name": "stdout",
     "output_type": "stream",
     "text": [
      "1. Velocity: 1.71 feet/second\n",
      "2. Velocity: 1418.77 cm./second\n"
     ]
    }
   ],
   "source": [
    "# Page 52.1\n",
    "l = 3 # feet\n",
    "theta = np.radians(10) # radians\n",
    "\n",
    "# Calculate height dropped (same as height gained)\n",
    "# y-component of drawn pendulum\n",
    "y_prime = l * np.cos(theta)\n",
    "h = l - y_prime\n",
    "\n",
    "# Conservation of Energy\n",
    "# mgh + 0 = 0 + (1/2)mv^2\n",
    "# Solve for v\n",
    "v = np.sqrt(2 * g * h)\n",
    "print(f'1. Velocity: {v:.2f} feet/second')\n",
    "\n",
    "\n",
    "# Page 52.2\n",
    "m = 20 # grams (projectile)\n",
    "M = 500 # grams (block)\n",
    "l = 100 # cm. (cord)\n",
    "theta = np.radians(10) # radians\n",
    "\n",
    "# Conservation of Momentum\n",
    "# mv = (M + m)V\n",
    "# Solve for v\n",
    "# v = (M + m)V / m\n",
    "\n",
    "# Conservation of Energy\n",
    "# 0 + (1/2)(M + m)V^2 = (M + m)gh + 0\n",
    "# Solve for V\n",
    "# V = sqrt(2gh)\n",
    "# Calculate h gained in system\n",
    "h = l - (l * np.cos(theta))\n",
    "V = np.sqrt(2 * (980) * h) # Define gravity in terms of cm./second^2\n",
    "\n",
    "# Substitute V in Momentum Equation, solving for v\n",
    "v = (M + m) * V / m\n",
    "print(f'2. Velocity: {v:.2f} cm./second')"
   ]
  },
  {
   "cell_type": "code",
   "execution_count": 4,
   "id": "6e3bf618-9429-44de-b84b-51cc731e6678",
   "metadata": {},
   "outputs": [],
   "source": [
    "# Page 53\n",
    "# Problems: Work and Energy"
   ]
  }
 ],
 "metadata": {
  "kernelspec": {
   "display_name": "Python 3 (ipykernel)",
   "language": "python",
   "name": "python3"
  },
  "language_info": {
   "codemirror_mode": {
    "name": "ipython",
    "version": 3
   },
   "file_extension": ".py",
   "mimetype": "text/x-python",
   "name": "python",
   "nbconvert_exporter": "python",
   "pygments_lexer": "ipython3",
   "version": "3.11.11"
  }
 },
 "nbformat": 4,
 "nbformat_minor": 5
}
