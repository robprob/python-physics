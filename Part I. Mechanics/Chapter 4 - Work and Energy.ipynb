{
 "cells": [
  {
   "cell_type": "markdown",
   "id": "54334f63-a327-426c-9eea-ed8ec2d35106",
   "metadata": {},
   "source": [
    "# Chapter 4 - Work and Energy"
   ]
  },
  {
   "cell_type": "code",
   "execution_count": 1,
   "id": "a961658a-369b-4411-8013-076115156e3e",
   "metadata": {},
   "outputs": [],
   "source": [
    "import numpy as np"
   ]
  }
 ],
 "metadata": {
  "kernelspec": {
   "display_name": "Python 3 (ipykernel)",
   "language": "python",
   "name": "python3"
  },
  "language_info": {
   "codemirror_mode": {
    "name": "ipython",
    "version": 3
   },
   "file_extension": ".py",
   "mimetype": "text/x-python",
   "name": "python",
   "nbconvert_exporter": "python",
   "pygments_lexer": "ipython3",
   "version": "3.11.11"
  }
 },
 "nbformat": 4,
 "nbformat_minor": 5
}
