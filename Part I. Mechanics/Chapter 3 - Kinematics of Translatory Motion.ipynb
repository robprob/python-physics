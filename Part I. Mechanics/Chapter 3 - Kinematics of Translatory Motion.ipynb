{
 "cells": [
  {
   "cell_type": "markdown",
   "id": "6a0a85f5-3493-46b3-8325-cc552364f76a",
   "metadata": {},
   "source": [
    "# Chapter 3 - Kinematics of Translatory Motion"
   ]
  },
  {
   "cell_type": "code",
   "execution_count": 1,
   "id": "c9db0110-31b3-497c-8706-8892edb055f2",
   "metadata": {},
   "outputs": [],
   "source": [
    "import numpy as np\n",
    "\n",
    "# Constants\n",
    "g = 32 # ft / sec. / sec."
   ]
  }
 ],
 "metadata": {
  "kernelspec": {
   "display_name": "Python 3 (ipykernel)",
   "language": "python",
   "name": "python3"
  },
  "language_info": {
   "codemirror_mode": {
    "name": "ipython",
    "version": 3
   },
   "file_extension": ".py",
   "mimetype": "text/x-python",
   "name": "python",
   "nbconvert_exporter": "python",
   "pygments_lexer": "ipython3",
   "version": "3.11.11"
  }
 },
 "nbformat": 4,
 "nbformat_minor": 5
}
