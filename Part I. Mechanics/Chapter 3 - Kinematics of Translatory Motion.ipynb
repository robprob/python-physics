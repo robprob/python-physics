{
 "cells": [
  {
   "cell_type": "markdown",
   "id": "6a0a85f5-3493-46b3-8325-cc552364f76a",
   "metadata": {},
   "source": [
    "# Chapter 3 - Kinematics of Translatory Motion"
   ]
  },
  {
   "cell_type": "code",
   "execution_count": 2,
   "id": "c9db0110-31b3-497c-8706-8892edb055f2",
   "metadata": {},
   "outputs": [],
   "source": [
    "import numpy as np\n",
    "\n",
    "# Constants\n",
    "g = 32 # ft./sec./sec."
   ]
  },
  {
   "cell_type": "code",
   "execution_count": 14,
   "id": "bca0b508-dfc7-4fea-898e-006fd4282ef9",
   "metadata": {},
   "outputs": [
    {
     "name": "stdout",
     "output_type": "stream",
     "text": [
      "1. Average Speed: 20.0 miles/hour\n",
      "   Average Velocity: 20.0 miles/hour East\n",
      "2. Acceleration: 2.93 feet/second\n",
      "   Distance Traveled: 440.00 feet\n"
     ]
    }
   ],
   "source": [
    "# Page 32.1\n",
    "s = 40 # miles\n",
    "t = 2 # hours\n",
    "direction = 'East'\n",
    "\n",
    "# Average speed\n",
    "v = s / t\n",
    "\n",
    "print(f'1. Average Speed: {v} miles/hour')\n",
    "print(f'   Average Velocity: {v} miles/hour {direction}')\n",
    "\n",
    "\n",
    "# Page 32.2\n",
    "v0 = 20 # miles/hour\n",
    "v = 40 # miles/hour\n",
    "t = 10 # seconds\n",
    "\n",
    "# Convert units to feet and seconds\n",
    "v0 = v0 * 5280 / 3600 # feet/second\n",
    "v = v * 5280 / 3600 # feet/second\n",
    "\n",
    "# Acceleration is uniform, so a_avg = a\n",
    "a = (v - v0) / t\n",
    "\n",
    "# Total distance traveled\n",
    "# s = v0t + (1/2)at^2\n",
    "s = (v0 * t) + (1/2) * a * t**2\n",
    "\n",
    "print(f'2. Acceleration: {a:.2f} feet/second')\n",
    "print(f'   Distance Traveled: {s:.2f} feet')"
   ]
  },
  {
   "cell_type": "code",
   "execution_count": 22,
   "id": "60c606d1-b3c1-4f3b-8e31-edb19c9543ad",
   "metadata": {},
   "outputs": [
    {
     "name": "stdout",
     "output_type": "stream",
     "text": [
      "1. Current Velocity: -96.00 feet/second\n",
      "   Distance Fallen: 144.00 feet\n",
      "2. Time at Peak: 0.50 seconds\n",
      "   Height at Peak: 4.00 feet\n"
     ]
    }
   ],
   "source": [
    "# Page 34.1\n",
    "v0 = 0\n",
    "t = 3\n",
    "a = -g\n",
    "\n",
    "# a = (v - v0) / t\n",
    "# Solve for current v\n",
    "# v = at + v0\n",
    "v = a * 3 + v0\n",
    "\n",
    "# Distance fallen\n",
    "s = (v0 * t) + (1/2) * a * t**2\n",
    "\n",
    "print(f'1. Current Velocity: {v:.2f} feet/second')\n",
    "print(f'   Distance Fallen: {abs(s):.2f} feet')\n",
    "\n",
    "\n",
    "# Page 34.2\n",
    "v0 = 16 # feet/second\n",
    "a = -g\n",
    "\n",
    "# v = v0 + at\n",
    "# Body reaches its peak when v = 0\n",
    "# 0 = v0 + at\n",
    "t = -v0 / a\n",
    "\n",
    "# Height traveled when at the peak\n",
    "h = (v0 * t) + (1/2) * a * t**2\n",
    "\n",
    "print(f'2. Time at Peak: {t:.2f} seconds')\n",
    "print(f'   Height at Peak: {h:.2f} feet')"
   ]
  },
  {
   "cell_type": "code",
   "execution_count": 25,
   "id": "60f5b635-bddb-41d3-972c-e0665eabd91c",
   "metadata": {},
   "outputs": [
    {
     "name": "stdout",
     "output_type": "stream",
     "text": [
      "Circular Acceleration: 30.98 feet/second\n"
     ]
    }
   ],
   "source": [
    "# Page 35\n",
    "v = 120 # miles/hour\n",
    "r = 1000 # feet\n",
    "\n",
    "# Convert units to feet and seconds\n",
    "v = 120 * 5280 / 3600 # feet/second\n",
    "\n",
    "# Acceleration of the car about its center of gravity\n",
    "# a_c = v^2 / r\n",
    "a_c = v**2 / r\n",
    "\n",
    "print(f'Circular Acceleration: {a_c:.2f} feet/second')"
   ]
  },
  {
   "cell_type": "code",
   "execution_count": 23,
   "id": "16a21f99-07f6-46a4-94ad-94b227fa0536",
   "metadata": {},
   "outputs": [],
   "source": [
    "# Pages 35-36\n",
    "# Problems: Kinematics of Translatory Motion"
   ]
  }
 ],
 "metadata": {
  "kernelspec": {
   "display_name": "Python 3 (ipykernel)",
   "language": "python",
   "name": "python3"
  },
  "language_info": {
   "codemirror_mode": {
    "name": "ipython",
    "version": 3
   },
   "file_extension": ".py",
   "mimetype": "text/x-python",
   "name": "python",
   "nbconvert_exporter": "python",
   "pygments_lexer": "ipython3",
   "version": "3.11.11"
  }
 },
 "nbformat": 4,
 "nbformat_minor": 5
}
